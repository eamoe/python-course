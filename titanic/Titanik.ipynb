{
 "cells": [
  {
   "cell_type": "code",
   "execution_count": 1,
   "id": "7e83547d",
   "metadata": {
    "scrolled": true
   },
   "outputs": [
    {
     "name": "stdout",
     "output_type": "stream",
     "text": [
      "All female passengers = 314\n",
      "All male passengers = 577\n",
      "All passengers = 891\n",
      "Every passenger has a gender\n"
     ]
    }
   ],
   "source": [
    "# Read the file\n",
    "import pandas as pd\n",
    "titanik_data = pd.read_csv('titanik.csv')\n",
    "\n",
    "# Check sums by Sex\n",
    "all_female_passengers_count = titanik_data.loc[titanik_data['Sex'] == 'female'].shape[0]\n",
    "all_male_passengers_count = titanik_data.loc[titanik_data['Sex'] == 'male'].shape[0]\n",
    "any_gender_count = titanik_data.shape[0]\n",
    "\n",
    "print(f\"All female passengers = {all_female_passengers_count}\")\n",
    "print(f\"All male passengers = {all_male_passengers_count}\")\n",
    "print(f\"All passengers = {any_gender_count}\")\n",
    "\n",
    "if (all_female_passengers_count + all_male_passengers_count) == any_gender_count:\n",
    "    print('Every passenger has a gender')\n",
    "else:\n",
    "    print(f'Number of passenger without gender = {any_gender_count - all_female_passengers_count - all_male_passengers_count}')"
   ]
  },
  {
   "cell_type": "code",
   "execution_count": 2,
   "id": "c877abc2",
   "metadata": {},
   "outputs": [
    {
     "name": "stdout",
     "output_type": "stream",
     "text": [
      "Survived female passengers = 233\n",
      "Survived male passengers = 109\n"
     ]
    }
   ],
   "source": [
    "all_female_passengers_survived = titanik_data.loc[(titanik_data['Sex'] == 'female') & (titanik_data['Survived'] == 1)].shape[0]\n",
    "print(f\"Survived female passengers = {all_female_passengers_survived}\")\n",
    "\n",
    "all_male_passengers_survived = titanik_data.loc[(titanik_data['Sex'] == 'male') & (titanik_data['Survived'] == 1)].shape[0]\n",
    "print(f\"Survived male passengers = {all_male_passengers_survived}\")"
   ]
  },
  {
   "cell_type": "code",
   "execution_count": 3,
   "id": "654a2a2e",
   "metadata": {},
   "outputs": [
    {
     "name": "stdout",
     "output_type": "stream",
     "text": [
      "First class = 216\n",
      "Second class = 184\n",
      "Third class = 491\n",
      "All passengers = 891\n",
      "Every passenger has a class\n"
     ]
    }
   ],
   "source": [
    "# Check sums by Pclass\n",
    "first_class_count = titanik_data[titanik_data.Pclass == 1].shape[0]\n",
    "second_class_count = titanik_data[titanik_data.Pclass == 2].shape[0]\n",
    "third_class_count = titanik_data[titanik_data.Pclass == 3].shape[0]\n",
    "any_class_count = titanik_data.shape[0]\n",
    "print(f\"First class = {first_class_count}\")\n",
    "print(f\"Second class = {second_class_count}\")\n",
    "print(f\"Third class = {third_class_count}\")\n",
    "print(f\"All passengers = {any_class_count}\")\n",
    "if first_class_count + second_class_count + third_class_count == any_class_count:\n",
    "    print('Every passenger has a class')\n",
    "else:\n",
    "    print(f'Number of passenger without class = {any_class_count - first_class_count - second_class_count - third_class_count}')"
   ]
  },
  {
   "cell_type": "code",
   "execution_count": 4,
   "id": "1c2cd413",
   "metadata": {
    "scrolled": false
   },
   "outputs": [
    {
     "name": "stdout",
     "output_type": "stream",
     "text": [
      "Passengers with empty Age = 177\n",
      "Passengers with defined Age = 714\n",
      "All passengers = 891\n"
     ]
    }
   ],
   "source": [
    "# Check sums by Age\n",
    "empty_age_count = titanik_data[titanik_data.Age.isnull()].shape[0]\n",
    "number_age_count = titanik_data[titanik_data.Age.notnull()].shape[0]\n",
    "any_age_count = titanik_data.shape[0]\n",
    "print(f\"Passengers with empty Age = {empty_age_count}\")\n",
    "print(f\"Passengers with defined Age = {number_age_count}\")\n",
    "print(f\"All passengers = {any_age_count}\")"
   ]
  },
  {
   "cell_type": "code",
   "execution_count": 5,
   "id": "0cffe1e2",
   "metadata": {},
   "outputs": [
    {
     "data": {
      "text/plain": [
       "PassengerId    891\n",
       "Name           891\n",
       "Ticket         681\n",
       "Sex              2\n",
       "Survived         2\n",
       "Pclass           3\n",
       "Embarked         3\n",
       "dtype: int64"
      ]
     },
     "execution_count": 5,
     "metadata": {},
     "output_type": "execute_result"
    }
   ],
   "source": [
    "titanik_data[['PassengerId', 'Name', 'Ticket', 'Sex', 'Survived', 'Pclass', 'Embarked']].nunique()"
   ]
  },
  {
   "cell_type": "code",
   "execution_count": 6,
   "id": "e2f292d6",
   "metadata": {},
   "outputs": [
    {
     "name": "stdout",
     "output_type": "stream",
     "text": [
      "Survived = 38%\n"
     ]
    }
   ],
   "source": [
    "passengers_died = titanik_data[titanik_data.Survived == 0].shape[0]\n",
    "passengers_survived = titanik_data[titanik_data.Survived == 1].shape[0]\n",
    "survival_ratio = passengers_survived / (passengers_died + passengers_survived)\n",
    "print(f\"Survived = {round(survival_ratio*100)}%\")"
   ]
  },
  {
   "cell_type": "code",
   "execution_count": 7,
   "id": "9f992094",
   "metadata": {},
   "outputs": [
    {
     "data": {
      "image/png": "[encoded data removed]",
      "text/plain": [
       "<Figure size 720x360 with 1 Axes>"
      ]
     },
     "metadata": {
      "needs_background": "light"
     },
     "output_type": "display_data"
    }
   ],
   "source": [
    "from matplotlib import pyplot as plt\n",
    "\n",
    "passengers_dead = titanik_data[(titanik_data.Survived == 0) & titanik_data.Age.notnull()]\n",
    "passengers_survived = titanik_data[(titanik_data.Survived == 1) & titanik_data.Age.notnull()]\n",
    "passengers_all = titanik_data[titanik_data.Age.notnull()]\n",
    "\n",
    "age = passengers_all.groupby(['Age']).count()['PassengerId']\n",
    "survived_count = passengers_survived.groupby(['Age']).count()['PassengerId']\n",
    "dead_count = passengers_dead.groupby(['Age']).count()['PassengerId']\n",
    "\n",
    "new_dict = {}\n",
    "for key, value in age.items():\n",
    "    if key in survived_count:\n",
    "        survived_dict_value = survived_count[key]\n",
    "    else:\n",
    "        survived_dict_value = 0\n",
    "    #if key in dead_count:\n",
    "    #    dead_dict_value = dead_count[key]\n",
    "    #else:\n",
    "    #    dead_dict_value = 0\n",
    "    #new_dict[key] = [survived_dict_value, dead_dict_value]\n",
    "    new_dict[key] = survived_dict_value\n",
    "#print(new_dict)\n",
    "\n",
    "import matplotlib.pyplot as plt\n",
    "\n",
    "names = list(new_dict.keys())\n",
    "values = list(new_dict.values())\n",
    "f = plt.figure()\n",
    "f.set_figwidth(10)\n",
    "f.set_figheight(5)\n",
    "plt.bar(range(len(new_dict)), values, width = 2.25)\n",
    "plt.show()"
   ]
  },
  {
   "cell_type": "code",
   "execution_count": 8,
   "id": "6d1dabb6",
   "metadata": {},
   "outputs": [
    {
     "data": {
      "image/png": "[encoded data removed]",
      "text/plain": [
       "<Figure size 1080x360 with 1 Axes>"
      ]
     },
     "metadata": {
      "needs_background": "light"
     },
     "output_type": "display_data"
    }
   ],
   "source": [
    "import matplotlib.pyplot as plt\n",
    "\n",
    "# List of ages\n",
    "age = passengers_all['Age'].unique().tolist()\n",
    "age.sort()\n",
    "\n",
    "# List of survived\n",
    "passengers_survived = titanik_data[(titanik_data.Survived == 1) & titanik_data.Age.notnull()]\n",
    "survived_count = passengers_survived.groupby(['Age']).count()['PassengerId']\n",
    "temp = survived_count.tolist()\n",
    "survived = []\n",
    "for key in age:\n",
    "    if key in survived_count:\n",
    "        survived.append(survived_count[key])\n",
    "    else:\n",
    "        survived.append(0)\n",
    "\n",
    "# List of dead\n",
    "passengers_dead = titanik_data[(titanik_data.Survived == 0) & titanik_data.Age.notnull()]\n",
    "dead_count = passengers_dead.groupby(['Age']).count()['PassengerId']\n",
    "temp = dead_count.tolist()\n",
    "dead = []\n",
    "for key in age:\n",
    "    if key in dead_count:\n",
    "        dead.append(dead_count[key])\n",
    "    else:\n",
    "        dead.append(0)\n",
    "\n",
    "f = plt.figure()\n",
    "f.set_figwidth(15)\n",
    "f.set_figheight(5)\n",
    "plt.bar(age, survived, color='g')\n",
    "plt.bar(age, dead, bottom=survived, color='r')\n",
    "plt.show()"
   ]
  },
  {
   "cell_type": "code",
   "execution_count": 9,
   "id": "7dc83ae7",
   "metadata": {},
   "outputs": [
    {
     "name": "stdout",
     "output_type": "stream",
     "text": [
      "[0.42, 0.67, 0.75, 0.83, 0.92, 1.0, 2.0, 3.0, 4.0, 5.0, 6.0, 7.0, 8.0, 9.0, 10.0, 11.0, 12.0, 13.0, 14.0, 14.5, 15.0, 16.0, 17.0, 18.0, 19.0, 20.0, 20.5, 21.0, 22.0, 23.0, 23.5, 24.0, 24.5, 25.0, 26.0, 27.0, 28.0, 28.5, 29.0, 30.0, 30.5, 31.0, 32.0, 32.5, 33.0, 34.0, 34.5, 35.0, 36.0, 36.5, 37.0, 38.0, 39.0, 40.0, 40.5, 41.0, 42.0, 43.0, 44.0, 45.0, 45.5, 46.0, 47.0, 48.0, 49.0, 50.0, 51.0, 52.0, 53.0, 54.0, 55.0, 55.5, 56.0, 57.0, 58.0, 59.0, 60.0, 61.0, 62.0, 63.0, 64.0, 65.0, 66.0, 70.0, 70.5, 71.0, 74.0, 80.0]\n"
     ]
    }
   ],
   "source": [
    "print(age)"
   ]
  },
  {
   "cell_type": "code",
   "execution_count": 10,
   "id": "624b61a4",
   "metadata": {},
   "outputs": [
    {
     "name": "stdout",
     "output_type": "stream",
     "text": [
      "[1, 1, 2, 2, 1, 5, 3, 5, 7, 4, 2, 1, 2, 2, 0, 1, 1, 2, 3, 0, 4, 6, 6, 9, 9, 3, 0, 5, 11, 5, 0, 15, 0, 6, 6, 11, 7, 0, 8, 10, 0, 8, 9, 1, 6, 6, 0, 11, 11, 0, 1, 5, 5, 6, 0, 2, 6, 1, 3, 5, 0, 0, 1, 6, 4, 5, 2, 3, 1, 3, 1, 0, 2, 0, 3, 0, 2, 0, 2, 2, 0, 0, 0, 0, 0, 0, 0, 1]\n"
     ]
    }
   ],
   "source": [
    "print(survived)"
   ]
  },
  {
   "cell_type": "code",
   "execution_count": 11,
   "id": "b77f1b10",
   "metadata": {},
   "outputs": [
    {
     "name": "stdout",
     "output_type": "stream",
     "text": [
      "[0, 0, 0, 0, 0, 2, 7, 1, 3, 0, 1, 2, 2, 6, 2, 3, 0, 0, 3, 1, 1, 11, 7, 17, 16, 12, 1, 19, 16, 10, 1, 15, 1, 17, 12, 7, 18, 2, 12, 15, 2, 9, 9, 1, 9, 9, 1, 7, 11, 1, 5, 6, 9, 7, 2, 4, 7, 4, 6, 7, 2, 3, 8, 3, 2, 5, 5, 3, 0, 5, 1, 1, 2, 2, 2, 2, 2, 3, 2, 0, 2, 3, 1, 2, 1, 2, 1, 0]\n"
     ]
    }
   ],
   "source": [
    "print(dead)"
   ]
  },
  {
   "cell_type": "code",
   "execution_count": 12,
   "id": "09e9e778",
   "metadata": {},
   "outputs": [
    {
     "name": "stdout",
     "output_type": "stream",
     "text": [
      "[100.0, 100.0, 100.0, 100.0, 100.0, 71.43, 30.0, 83.33, 70.0, 100.0, 66.67, 33.33, 50.0, 25.0, 0.0, 25.0, 100.0, 100.0, 50.0, 0.0, 80.0, 35.29, 46.15, 34.62, 36.0, 20.0, 0.0, 20.83, 40.74, 33.33, 0.0, 50.0, 0.0, 26.09, 33.33, 61.11, 28.0, 0.0, 40.0, 40.0, 0.0, 47.06, 50.0, 50.0, 40.0, 40.0, 0.0, 61.11, 50.0, 0.0, 16.67, 45.45, 35.71, 46.15, 0.0, 33.33, 46.15, 20.0, 33.33, 41.67, 0.0, 0.0, 11.11, 66.67, 66.67, 50.0, 28.57, 50.0, 100.0, 37.5, 50.0, 0.0, 50.0, 0.0, 60.0, 0.0, 50.0, 0.0, 50.0, 100.0, 0.0, 0.0, 0.0, 0.0, 0.0, 0.0, 0.0, 100.0]\n"
     ]
    }
   ],
   "source": [
    "surv_ration = []\n",
    "for i in range(0, (len(survived))):\n",
    "    surv_ration.append(round(100* survived[i]/(survived[i] + dead[i]), 2))\n",
    "print(surv_ration)"
   ]
  },
  {
   "cell_type": "code",
   "execution_count": 13,
   "id": "dcd61974",
   "metadata": {},
   "outputs": [
    {
     "data": {
      "image/png": "[encoded data removed]",
      "text/plain": [
       "<Figure size 1080x360 with 1 Axes>"
      ]
     },
     "metadata": {
      "needs_background": "light"
     },
     "output_type": "display_data"
    }
   ],
   "source": [
    "import matplotlib.pyplot as plt\n",
    "\n",
    "f = plt.figure()\n",
    "f.set_figwidth(15)\n",
    "f.set_figheight(5)\n",
    "plt.bar(age, surv_ration, color='g')\n",
    "plt.show()"
   ]
  },
  {
   "cell_type": "code",
   "execution_count": 14,
   "id": "4b9041bd",
   "metadata": {},
   "outputs": [
    {
     "data": {
      "image/png": "[encoded data removed]",
      "text/plain": [
       "<Figure size 1080x360 with 1 Axes>"
      ]
     },
     "metadata": {
      "needs_background": "light"
     },
     "output_type": "display_data"
    }
   ],
   "source": [
    "dead_ration = []\n",
    "for i in range(0, (len(dead))):\n",
    "    dead_ration.append(round(100* dead[i]/(dead[i] + survived[i]), 2))\n",
    "f = plt.figure()\n",
    "f.set_figwidth(15)\n",
    "f.set_figheight(5)\n",
    "plt.bar(age, dead_ration, color='r')\n",
    "plt.show()"
   ]
  },
  {
   "cell_type": "code",
   "execution_count": 15,
   "id": "4662454c",
   "metadata": {},
   "outputs": [
    {
     "data": {
      "image/png": "[encoded data removed]",
      "text/plain": [
       "<Figure size 1080x360 with 1 Axes>"
      ]
     },
     "metadata": {
      "needs_background": "light"
     },
     "output_type": "display_data"
    }
   ],
   "source": [
    "all_people = []\n",
    "for i in range(0, (len(dead))):\n",
    "    all_people.append(dead[i] + survived[i])\n",
    "f = plt.figure()\n",
    "f.set_figwidth(15)\n",
    "f.set_figheight(5)\n",
    "plt.bar(age, all_people, color='b')\n",
    "plt.show()"
   ]
  },
  {
   "cell_type": "code",
   "execution_count": 16,
   "id": "f406fd2a",
   "metadata": {},
   "outputs": [
    {
     "name": "stdout",
     "output_type": "stream",
     "text": [
      "All 3rd class = 491\n",
      "Survived 3rd class = 24%\n"
     ]
    }
   ],
   "source": [
    "third_class_surv = titanik_data.loc[(titanik_data['Pclass'] == 3) &(titanik_data['Survived'] == 1)].shape[0]\n",
    "third_class_all = titanik_data.loc[(titanik_data['Pclass'] == 3)].shape[0]\n",
    "print(f\"All 3rd class = {third_class_all}\")\n",
    "print(f\"Survived 3rd class = {round(100 * third_class_surv/third_class_all)}%\")"
   ]
  },
  {
   "cell_type": "code",
   "execution_count": 17,
   "id": "f629ef2a",
   "metadata": {},
   "outputs": [
    {
     "name": "stdout",
     "output_type": "stream",
     "text": [
      "All 2nd class = 184\n",
      "Survived 2nd class = 47%\n"
     ]
    }
   ],
   "source": [
    "second_class_surv = titanik_data.loc[(titanik_data['Pclass'] == 2) &(titanik_data['Survived'] == 1)].shape[0]\n",
    "second_class_all = titanik_data.loc[(titanik_data['Pclass'] == 2)].shape[0]\n",
    "print(f\"All 2nd class = {second_class_all}\")\n",
    "print(f\"Survived 2nd class = {round(100 * second_class_surv/second_class_all)}%\")"
   ]
  },
  {
   "cell_type": "code",
   "execution_count": 18,
   "id": "858063ec",
   "metadata": {},
   "outputs": [
    {
     "name": "stdout",
     "output_type": "stream",
     "text": [
      "All 1st class = 216\n",
      "Survived 1st class = 63%\n"
     ]
    }
   ],
   "source": [
    "first_class_surv = titanik_data.loc[(titanik_data['Pclass'] == 1) &(titanik_data['Survived'] == 1)].shape[0]\n",
    "first_class_all = titanik_data.loc[(titanik_data['Pclass'] == 1)].shape[0]\n",
    "print(f\"All 1st class = {first_class_all}\")\n",
    "print(f\"Survived 1st class = {round(100 * first_class_surv/first_class_all)}%\")"
   ]
  },
  {
   "cell_type": "code",
   "execution_count": 19,
   "id": "2ac38a16",
   "metadata": {},
   "outputs": [
    {
     "name": "stdout",
     "output_type": "stream",
     "text": [
      "All 3rd class women = 144\n",
      "Survived 3rd class women = 50%\n",
      "All 3rd class men = 347\n",
      "Survived 3rd class men = 14%\n"
     ]
    }
   ],
   "source": [
    "third_class_surv_women = titanik_data.loc[(titanik_data['Pclass'] == 3) &(titanik_data['Survived'] == 1) & (titanik_data['Sex'] == 'female')].shape[0]\n",
    "third_class_all_women = titanik_data.loc[(titanik_data['Pclass'] == 3) & (titanik_data['Sex'] == 'female')].shape[0]\n",
    "print(f\"All 3rd class women = {third_class_all_women}\")\n",
    "print(f\"Survived 3rd class women = {round(100 * third_class_surv_women/third_class_all_women)}%\")\n",
    "\n",
    "third_class_surv_men = titanik_data.loc[(titanik_data['Pclass'] == 3) &(titanik_data['Survived'] == 1) & (titanik_data['Sex'] == 'male')].shape[0]\n",
    "third_class_all_men = titanik_data.loc[(titanik_data['Pclass'] == 3) & (titanik_data['Sex'] == 'male')].shape[0]\n",
    "print(f\"All 3rd class men = {third_class_all_men}\")\n",
    "print(f\"Survived 3rd class men = {round(100 * third_class_surv_men/third_class_all_men)}%\")"
   ]
  },
  {
   "cell_type": "code",
   "execution_count": 20,
   "id": "70ff6dff",
   "metadata": {},
   "outputs": [
    {
     "name": "stdout",
     "output_type": "stream",
     "text": [
      "All 3rd class women = 76\n",
      "Survived 3rd class women = 92%\n",
      "All 3rd class men = 108\n",
      "Survived 3rd class men = 16%\n"
     ]
    }
   ],
   "source": [
    "second_class_surv_women = titanik_data.loc[(titanik_data['Pclass'] == 2) &(titanik_data['Survived'] == 1) & (titanik_data['Sex'] == 'female')].shape[0]\n",
    "second_class_all_women = titanik_data.loc[(titanik_data['Pclass'] == 2) & (titanik_data['Sex'] == 'female')].shape[0]\n",
    "print(f\"All 3rd class women = {second_class_all_women}\")\n",
    "print(f\"Survived 3rd class women = {round(100 * second_class_surv_women/second_class_all_women)}%\")\n",
    "\n",
    "second_class_surv_men = titanik_data.loc[(titanik_data['Pclass'] == 2) &(titanik_data['Survived'] == 1) & (titanik_data['Sex'] == 'male')].shape[0]\n",
    "second_class_all_men = titanik_data.loc[(titanik_data['Pclass'] == 2) & (titanik_data['Sex'] == 'male')].shape[0]\n",
    "print(f\"All 3rd class men = {second_class_all_men}\")\n",
    "print(f\"Survived 3rd class men = {round(100 * second_class_surv_men/second_class_all_men)}%\")"
   ]
  },
  {
   "cell_type": "code",
   "execution_count": 21,
   "id": "452613b4",
   "metadata": {},
   "outputs": [
    {
     "name": "stdout",
     "output_type": "stream",
     "text": [
      "All 1st class women = 94\n",
      "Survived 1st class women = 97%\n",
      "All 1st class men = 122\n",
      "Survived 1st class men = 37%\n"
     ]
    }
   ],
   "source": [
    "first_class_surv_women = titanik_data.loc[(titanik_data['Pclass'] == 1) &(titanik_data['Survived'] == 1) & (titanik_data['Sex'] == 'female')].shape[0]\n",
    "first_class_all_women = titanik_data.loc[(titanik_data['Pclass'] == 1) & (titanik_data['Sex'] == 'female')].shape[0]\n",
    "print(f\"All 1st class women = {first_class_all_women}\")\n",
    "print(f\"Survived 1st class women = {round(100 * first_class_surv_women/first_class_all_women)}%\")\n",
    "\n",
    "first_class_surv_men = titanik_data.loc[(titanik_data['Pclass'] == 1) &(titanik_data['Survived'] == 1) & (titanik_data['Sex'] == 'male')].shape[0]\n",
    "first_class_all_men = titanik_data.loc[(titanik_data['Pclass'] == 1) & (titanik_data['Sex'] == 'male')].shape[0]\n",
    "print(f\"All 1st class men = {first_class_all_men}\")\n",
    "print(f\"Survived 1st class men = {round(100 * first_class_surv_men/first_class_all_men)}%\")"
   ]
  },
  {
   "cell_type": "code",
   "execution_count": 26,
   "id": "0134f5b4",
   "metadata": {},
   "outputs": [],
   "source": [
    "passenger_class = ['First Class', 'Second Class', 'Third Class']\n",
    "female_by_class_survived_percentage = [round(100 * first_class_surv_women/first_class_all_women), round(100 * second_class_surv_women/second_class_all_women), round(100 * third_class_surv_women/third_class_all_women)]\n",
    "male_by_class_survived_percentage = [round(100 * first_class_surv_men/first_class_all_men), round(100 * second_class_surv_men/second_class_all_men), round(100 * third_class_surv_men/third_class_all_men)]"
   ]
  },
  {
   "cell_type": "code",
   "execution_count": 56,
   "id": "7ba2a019",
   "metadata": {},
   "outputs": [
    {
     "data": {
      "image/png": "[encoded data removed]",
      "text/plain": [
       "<Figure size 864x576 with 1 Axes>"
      ]
     },
     "metadata": {
      "needs_background": "light"
     },
     "output_type": "display_data"
    },
    {
     "name": "stdout",
     "output_type": "stream",
     "text": [
      "ПЕРВЫЙ КЛАСС женщины: 97%, мужчины: 37%\n",
      "ВТОРОЙ КЛАСС женщины: 92%, мужчины: 16%\n",
      "ТРЕТИЙ КЛАСС женщины: 50%, мужчины: 14%\n"
     ]
    }
   ],
   "source": [
    "import numpy as np\n",
    "import matplotlib.pyplot as plt\n",
    "\n",
    "# set width of bar\n",
    "barWidth = 0.25\n",
    "fig = plt.subplots(figsize =(12, 8))\n",
    "\n",
    "# set height of bar\n",
    "passenger_class = ['первый', 'второй', 'третий']\n",
    "female_by_class_survived_percentage = [round(100 * first_class_surv_women/first_class_all_women), round(100 * second_class_surv_women/second_class_all_women), round(100 * third_class_surv_women/third_class_all_women)]\n",
    "male_by_class_survived_percentage = [round(100 * first_class_surv_men/first_class_all_men), round(100 * second_class_surv_men/second_class_all_men), round(100 * third_class_surv_men/third_class_all_men)]\n",
    "\n",
    "# Set position of bar on X axis\n",
    "br1 = np.arange(len(female_by_class_survived_percentage))\n",
    "br2 = [x + barWidth for x in br1]\n",
    "\n",
    "# Make the plot\n",
    "plt.bar(br1, female_by_class_survived_percentage, color ='b', width = barWidth,\n",
    "\t\tedgecolor ='grey', label ='Женщины')\n",
    "plt.bar(br2, male_by_class_survived_percentage, color ='m', width = barWidth,\n",
    "\t\tedgecolor ='grey', label ='Мужчины')\n",
    "\n",
    "# Adding Xticks\n",
    "plt.xlabel('класс пассажира', fontweight ='bold', fontsize = 15)\n",
    "plt.ylabel('выжившие, %', fontweight ='bold', fontsize = 15)\n",
    "plt.xticks([r + barWidth for r in range(len(female_by_class_survived_percentage))],\n",
    "\t\tpassenger_class)\n",
    "\n",
    "plt.legend()\n",
    "plt.show()\n",
    "\n",
    "print(f\"ПЕРВЫЙ КЛАСС женщины: {female_by_class_survived_percentage[0]}%, мужчины: {male_by_class_survived_percentage[0]}%\")\n",
    "print(f\"ВТОРОЙ КЛАСС женщины: {female_by_class_survived_percentage[1]}%, мужчины: {male_by_class_survived_percentage[1]}%\")\n",
    "print(f\"ТРЕТИЙ КЛАСС женщины: {female_by_class_survived_percentage[2]}%, мужчины: {male_by_class_survived_percentage[2]}%\")"
   ]
  },
  {
   "cell_type": "code",
   "execution_count": null,
   "id": "549fa019",
   "metadata": {},
   "outputs": [],
   "source": []
  }
 ],
 "metadata": {
  "kernelspec": {
   "display_name": "Python 3 (ipykernel)",
   "language": "python",
   "name": "python3"
  },
  "language_info": {
   "codemirror_mode": {
    "name": "ipython",
    "version": 3
   },
   "file_extension": ".py",
   "mimetype": "text/x-python",
   "name": "python",
   "nbconvert_exporter": "python",
   "pygments_lexer": "ipython3",
   "version": "3.9.12"
  }
 },
 "nbformat": 4,
 "nbformat_minor": 5
}
